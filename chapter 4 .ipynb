{
 "cells": [
  {
   "cell_type": "markdown",
   "id": "d905cdd3",
   "metadata": {},
   "source": [
    "# Functions "
   ]
  },
  {
   "cell_type": "code",
   "execution_count": 1,
   "id": "9f027cc3",
   "metadata": {},
   "outputs": [
    {
     "name": "stdout",
     "output_type": "stream",
     "text": [
      "Hello\n",
      "I'm a lumberjack, and I'm okay.\n",
      "I sleep all night and I work all day.\n",
      "Yo\n",
      "7\n"
     ]
    }
   ],
   "source": [
    "x = 5\n",
    "print('Hello')\n",
    "\n",
    "def print_lyrics():\n",
    " print(\"I'm a lumberjack, and I'm okay.\")\n",
    " print('I sleep all night and I work all day.')\n",
    "    \n",
    "print_lyrics()\n",
    "print('Yo')\n",
    "x = x + 2\n",
    "print(x)"
   ]
  },
  {
   "cell_type": "code",
   "execution_count": 2,
   "id": "ae23b7ad",
   "metadata": {},
   "outputs": [
    {
     "name": "stdout",
     "output_type": "stream",
     "text": [
      "Hello\n",
      "Fun\n",
      "Zip\n",
      "Hello\n",
      "Fun\n"
     ]
    }
   ],
   "source": [
    "def thing():\n",
    " print('Hello')\n",
    " print('Fun')\n",
    "    \n",
    "thing()\n",
    "print('Zip')\n",
    "thing()"
   ]
  },
  {
   "cell_type": "code",
   "execution_count": 3,
   "id": "990e45ff",
   "metadata": {},
   "outputs": [
    {
     "name": "stdout",
     "output_type": "stream",
     "text": [
      "Hello\n",
      "Hola\n",
      "Bonjour\n"
     ]
    }
   ],
   "source": [
    "def greet(lang):\n",
    " if lang == 'es':\n",
    "  print('Hola')\n",
    " elif lang == 'fr':\n",
    "  print('Bonjour')\n",
    " else:\n",
    "  print('Hello')\n",
    "\n",
    "greet('en')\n",
    "\n",
    "greet('es')\n",
    "\n",
    "greet('fr')"
   ]
  },
  {
   "cell_type": "code",
   "execution_count": 4,
   "id": "cf602bd1",
   "metadata": {},
   "outputs": [
    {
     "name": "stdout",
     "output_type": "stream",
     "text": [
      "Hello Mahnoor \n",
      "Hello Anusha \n",
      "Hello Shazia \n"
     ]
    }
   ],
   "source": [
    "def greet():\n",
    " return \"Hello\" #this function always return hello\n",
    "\n",
    "print(greet(), \"Mahnoor \")\n",
    "print(greet(), \"Anusha \")\n",
    "print(greet(), \"Shazia \")"
   ]
  },
  {
   "cell_type": "code",
   "execution_count": 6,
   "id": "4b3a19a8",
   "metadata": {},
   "outputs": [
    {
     "name": "stdout",
     "output_type": "stream",
     "text": [
      "Hello\n",
      "I sleep all night and I work all day.\n",
      "Yo\n",
      "7\n"
     ]
    }
   ],
   "source": [
    "x = 5\n",
    "print('Hello')\n",
    "def print_lyrics():\n",
    " print(\"I'm a lumberjack, and I'm okay.\")\n",
    "print('I sleep all night and I work all day.')\n",
    "print('Yo')\n",
    "x = x + 2\n",
    "print(x)"
   ]
  },
  {
   "cell_type": "code",
   "execution_count": null,
   "id": "29880f86",
   "metadata": {},
   "outputs": [],
   "source": []
  }
 ],
 "metadata": {
  "kernelspec": {
   "display_name": "Python 3 (ipykernel)",
   "language": "python",
   "name": "python3"
  },
  "language_info": {
   "codemirror_mode": {
    "name": "ipython",
    "version": 3
   },
   "file_extension": ".py",
   "mimetype": "text/x-python",
   "name": "python",
   "nbconvert_exporter": "python",
   "pygments_lexer": "ipython3",
   "version": "3.11.4"
  }
 },
 "nbformat": 4,
 "nbformat_minor": 5
}
