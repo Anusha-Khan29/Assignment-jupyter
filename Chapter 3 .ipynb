{
 "cells": [
  {
   "cell_type": "markdown",
   "id": "0a4bba60",
   "metadata": {},
   "source": [
    "# Conditionals"
   ]
  },
  {
   "cell_type": "code",
   "execution_count": 1,
   "id": "2f27260e",
   "metadata": {},
   "outputs": [
    {
     "name": "stdout",
     "output_type": "stream",
     "text": [
      "Bigger\n",
      "finish\n"
     ]
    }
   ],
   "source": [
    "a = 77\n",
    "if a < 10:\n",
    "    print(\"Smaller\")\n",
    "if a > 40:\n",
    "   print(\"Bigger\")\n",
    "     \n",
    "print(\"finish\")\n"
   ]
  },
  {
   "cell_type": "markdown",
   "id": "35ca81b5",
   "metadata": {},
   "source": [
    "# two- way desicion"
   ]
  },
  {
   "cell_type": "code",
   "execution_count": 4,
   "id": "0428244c",
   "metadata": {},
   "outputs": [
    {
     "name": "stdout",
     "output_type": "stream",
     "text": [
      "b is greater than a\n"
     ]
    }
   ],
   "source": [
    "a = 55\n",
    "b = 76\n",
    "if b > a:\n",
    "  print(\"b is greater than a\")\n",
    "elif a == b:\n",
    "  print(\"a and b are equal\")"
   ]
  },
  {
   "cell_type": "code",
   "execution_count": 6,
   "id": "8b3022e5",
   "metadata": {},
   "outputs": [
    {
     "name": "stdout",
     "output_type": "stream",
     "text": [
      "Bigger\n",
      "All done\n"
     ]
    }
   ],
   "source": [
    "x = 4\n",
    "if x > 2 :\n",
    " print('Bigger')\n",
    "else :\n",
    " print('Smaller')\n",
    "print('All done')"
   ]
  },
  {
   "cell_type": "markdown",
   "id": "8184e9f8",
   "metadata": {},
   "source": [
    "# Nested loop"
   ]
  },
  {
   "cell_type": "code",
   "execution_count": 7,
   "id": "1bd358b6",
   "metadata": {},
   "outputs": [
    {
     "name": "stdout",
     "output_type": "stream",
     "text": [
      "Less than 100\n",
      "All done\n"
     ]
    }
   ],
   "source": [
    "j = 42\n",
    "if j > 111 :\n",
    " print('More than one')\n",
    "if j < 100 :\n",
    " print('Less than 100')\n",
    "print('All done')"
   ]
  },
  {
   "cell_type": "markdown",
   "id": "47d99eff",
   "metadata": {},
   "source": [
    "# Multi-way "
   ]
  },
  {
   "cell_type": "code",
   "execution_count": 9,
   "id": "2359f258",
   "metadata": {},
   "outputs": [
    {
     "name": "stdout",
     "output_type": "stream",
     "text": [
      "small\n",
      "All done\n"
     ]
    }
   ],
   "source": [
    "x = 0 \n",
    "if x < 2 :\n",
    " print('small')\n",
    "elif x < 10 :\n",
    " print('Medium')\n",
    "else :\n",
    " print('LARGE')\n",
    "print('All done')"
   ]
  },
  {
   "cell_type": "code",
   "execution_count": 10,
   "id": "de1f36cb",
   "metadata": {},
   "outputs": [
    {
     "name": "stdout",
     "output_type": "stream",
     "text": [
      "Large\n"
     ]
    }
   ],
   "source": [
    "h = 23\n",
    "if h < 2 :\n",
    " print('Small')\n",
    "elif h < 10 :\n",
    " print('Medium')\n",
    "elif h < 20 :\n",
    " print('Big')\n",
    "elif h < 40 :\n",
    " print('Large')\n",
    "elif h < 100:\n",
    " print('Huge')\n",
    "else :\n",
    " print('Ginormous')"
   ]
  },
  {
   "cell_type": "markdown",
   "id": "2305e2ec",
   "metadata": {},
   "source": [
    "# try/except"
   ]
  },
  {
   "cell_type": "code",
   "execution_count": 15,
   "id": "acb6a731",
   "metadata": {},
   "outputs": [
    {
     "name": "stdout",
     "output_type": "stream",
     "text": [
      "First -1\n",
      "Second 123\n"
     ]
    }
   ],
   "source": [
    "astr = 'Hello Bob'\n",
    "try:\n",
    " istr = int(astr)\n",
    "except:\n",
    " istr = -1\n",
    "\n",
    "print('First', istr)\n",
    "\n",
    "astr = '123'\n",
    "try:\n",
    " istr = int(astr)\n",
    "except:\n",
    " istr = -1\n",
    "print('Second', istr)"
   ]
  },
  {
   "cell_type": "code",
   "execution_count": null,
   "id": "fc11ee50",
   "metadata": {},
   "outputs": [],
   "source": []
  }
 ],
 "metadata": {
  "kernelspec": {
   "display_name": "Python 3 (ipykernel)",
   "language": "python",
   "name": "python3"
  },
  "language_info": {
   "codemirror_mode": {
    "name": "ipython",
    "version": 3
   },
   "file_extension": ".py",
   "mimetype": "text/x-python",
   "name": "python",
   "nbconvert_exporter": "python",
   "pygments_lexer": "ipython3",
   "version": "3.11.4"
  }
 },
 "nbformat": 4,
 "nbformat_minor": 5
}
